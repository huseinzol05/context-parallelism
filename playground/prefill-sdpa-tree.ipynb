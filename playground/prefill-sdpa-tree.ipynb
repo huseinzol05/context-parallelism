{
 "cells": [
  {
   "cell_type": "code",
   "execution_count": 1,
   "id": "79cfc39d",
   "metadata": {},
   "outputs": [],
   "source": [
    "import os\n",
    "\n",
    "os.environ['CUDA_VISIBLE_DEVICES'] = '1'"
   ]
  },
  {
   "cell_type": "code",
   "execution_count": 2,
   "id": "ce1923b8",
   "metadata": {},
   "outputs": [],
   "source": [
    "import torch\n",
    "import torch.nn.functional as F\n",
    "from xformers.ops.fmha import (\n",
    "    memory_efficient_attention_forward,\n",
    "    memory_efficient_attention_backward, \n",
    "    memory_efficient_attention_partial,\n",
    "    merge_attentions\n",
    ")\n",
    "import torch"
   ]
  },
  {
   "cell_type": "code",
   "execution_count": 3,
   "id": "d855d3ac",
   "metadata": {},
   "outputs": [],
   "source": [
    "head_num = 16\n",
    "dim = 128\n",
    "seq_len = 200\n",
    "chunk_size = 4\n",
    "batch_size = 1"
   ]
  },
  {
   "cell_type": "code",
   "execution_count": 4,
   "id": "35ffb759",
   "metadata": {},
   "outputs": [],
   "source": [
    "q = torch.randn(batch_size, head_num, seq_len, dim).cuda().to(torch.bfloat16)\n",
    "k = torch.randn(batch_size, head_num, seq_len, dim).cuda().to(torch.bfloat16)\n",
    "v = torch.randn(batch_size, head_num, seq_len, dim).cuda().to(torch.bfloat16)"
   ]
  },
  {
   "cell_type": "code",
   "execution_count": 5,
   "id": "66ef8e85",
   "metadata": {},
   "outputs": [],
   "source": [
    "out_dot = torch.nn.functional.scaled_dot_product_attention(q, k, v, )"
   ]
  },
  {
   "cell_type": "code",
   "execution_count": 6,
   "id": "156f7471",
   "metadata": {},
   "outputs": [
    {
     "data": {
      "text/plain": [
       "torch.Size([1, 200, 16, 128])"
      ]
     },
     "execution_count": 6,
     "metadata": {},
     "output_type": "execute_result"
    }
   ],
   "source": [
    "q_ = q.transpose(1, 2)\n",
    "k_ = k.transpose(1, 2)\n",
    "v_ = v.transpose(1, 2)\n",
    "v_.shape"
   ]
  },
  {
   "cell_type": "code",
   "execution_count": 8,
   "id": "cca85180",
   "metadata": {},
   "outputs": [],
   "source": [
    "Q_block = q_chunks[0]"
   ]
  },
  {
   "cell_type": "code",
   "execution_count": 13,
   "id": "2e828ccd",
   "metadata": {},
   "outputs": [],
   "source": [
    "def local_attention(Q_block, k_chunks, v_chunks):\n",
    "    outs, max_lse = None, None\n",
    "    new_denominator = None\n",
    "    attn_output = None\n",
    "    new_lse_full = None\n",
    "\n",
    "    for i in range(len(k_chunks)):\n",
    "        out_, lse_ = memory_efficient_attention_partial(Q_block, k_chunks[i], v_chunks[i])\n",
    "        lse_ = lse_.transpose(1, 2)\n",
    "\n",
    "        if i == 0:\n",
    "            max_lse = lse_\n",
    "            adjust_factors = torch.ones_like(lse_).unsqueeze(-1)\n",
    "            new_denominator = adjust_factors\n",
    "            attn_output = out_ * adjust_factors\n",
    "            new_lse_full = lse_\n",
    "        else:\n",
    "            new_max_lse = torch.maximum(max_lse, lse_)\n",
    "\n",
    "            old_adjust_factors = torch.exp(max_lse - new_max_lse).unsqueeze(-1)\n",
    "            new_adjust_factors = torch.exp(lse_ - new_max_lse).unsqueeze(-1)\n",
    "\n",
    "            new_denominator = old_adjust_factors * new_denominator + new_adjust_factors\n",
    "            attn_output = old_adjust_factors * attn_output + new_adjust_factors * out_\n",
    "            new_lse_full = new_max_lse + torch.log(torch.exp(new_lse_full - new_max_lse) + torch.exp(lse_ - new_max_lse))\n",
    "\n",
    "            max_lse = new_max_lse\n",
    "    \n",
    "    return attn_output, max_lse, new_lse_full"
   ]
  },
  {
   "cell_type": "code",
   "execution_count": 14,
   "id": "b9df55da",
   "metadata": {},
   "outputs": [],
   "source": [
    "# first node\n",
    "attn_output_0, max_lse_0, new_lse_full_0 = local_attention(Q_block, k_chunks[:2], v_chunks[:2])\n",
    "# second node\n",
    "attn_output_1, max_lse_1, new_lse_full_1 = local_attention(Q_block, k_chunks[2:], v_chunks[2:])"
   ]
  },
  {
   "cell_type": "code",
   "execution_count": 15,
   "id": "4df5aff3",
   "metadata": {},
   "outputs": [],
   "source": [
    "attn_outputs = [attn_output_0, attn_output_1]\n",
    "max_lses = [max_lse_0, max_lse_1]"
   ]
  },
  {
   "cell_type": "code",
   "execution_count": 16,
   "id": "569d5778",
   "metadata": {},
   "outputs": [],
   "source": [
    "denominators = []\n",
    "adjusted_outputs = []\n",
    "\n",
    "all_lses = torch.cat([lse.unsqueeze(0) for lse in max_lses], dim=0)\n",
    "global_max_lse = torch.max(all_lses, dim=0)[0]\n",
    "\n",
    "for i, (output, lse) in enumerate(zip(attn_outputs, max_lses)):\n",
    "    adjust_factor = torch.exp(lse - global_max_lse).unsqueeze(-1)\n",
    "\n",
    "    adjusted_outputs.append(output * adjust_factor)\n",
    "    denominators.append(adjust_factor)\n",
    "\n",
    "final_output = torch.zeros_like(adjusted_outputs[0])\n",
    "final_denominator = torch.zeros_like(denominators[0])\n",
    "\n",
    "for adj_output, denom in zip(adjusted_outputs, denominators):\n",
    "    final_output += adj_output\n",
    "    final_denominator += denom\n",
    "\n",
    "merged_output = (final_output / final_denominator).transpose(1, 2)"
   ]
  },
  {
   "cell_type": "code",
   "execution_count": 17,
   "id": "8a091cac",
   "metadata": {},
   "outputs": [
    {
     "data": {
      "text/plain": [
       "tensor(0.9962, device='cuda:0')"
      ]
     },
     "execution_count": 17,
     "metadata": {},
     "output_type": "execute_result"
    }
   ],
   "source": [
    "(merged_output.argmax(-1) == out_dot[:,:,:seq_len // chunk_size].argmax(-1)).float().mean()"
   ]
  },
  {
   "cell_type": "code",
   "execution_count": 18,
   "id": "f4cad5fc",
   "metadata": {},
   "outputs": [
    {
     "data": {
      "text/plain": [
       "tensor(0.9993, device='cuda:0')"
      ]
     },
     "execution_count": 18,
     "metadata": {},
     "output_type": "execute_result"
    }
   ],
   "source": [
    "(merged_output.sign() == out_dot[:,:,:seq_len // chunk_size].sign()).float().mean()"
   ]
  },
  {
   "cell_type": "code",
   "execution_count": null,
   "id": "7e838a5e",
   "metadata": {},
   "outputs": [],
   "source": [
    "# aggregate!"
   ]
  }
 ],
 "metadata": {
  "kernelspec": {
   "display_name": "python3.10",
   "language": "python",
   "name": "python3.10"
  },
  "language_info": {
   "codemirror_mode": {
    "name": "ipython",
    "version": 3
   },
   "file_extension": ".py",
   "mimetype": "text/x-python",
   "name": "python",
   "nbconvert_exporter": "python",
   "pygments_lexer": "ipython3",
   "version": "3.10.14"
  }
 },
 "nbformat": 4,
 "nbformat_minor": 5
}
