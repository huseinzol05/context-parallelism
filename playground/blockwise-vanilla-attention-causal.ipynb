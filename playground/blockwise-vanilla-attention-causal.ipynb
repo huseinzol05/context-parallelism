{
 "cells": [
  {
   "cell_type": "code",
   "execution_count": 1,
   "id": "ce1923b8",
   "metadata": {},
   "outputs": [],
   "source": [
    "import torch\n",
    "import torch.nn.functional as F"
   ]
  },
  {
   "cell_type": "code",
   "execution_count": 2,
   "id": "35ffb759",
   "metadata": {},
   "outputs": [],
   "source": [
    "Q = torch.randn(100, 128).cuda().to(torch.bfloat16)\n",
    "K = torch.randn(100, 128).cuda().to(torch.bfloat16)\n",
    "V = torch.randn(100, 128).cuda().to(torch.bfloat16)\n",
    "L = Q.shape[0]\n",
    "S = K.shape[0]\n",
    "temp_mask = torch.ones(L, S, dtype=torch.bool).tril(diagonal=0).cuda()"
   ]
  },
  {
   "cell_type": "code",
   "execution_count": 3,
   "id": "fdf94447",
   "metadata": {},
   "outputs": [
    {
     "data": {
      "text/plain": [
       "torch.Size([20, 128])"
      ]
     },
     "execution_count": 3,
     "metadata": {},
     "output_type": "execute_result"
    }
   ],
   "source": [
    "full_attention = torch.matmul(F.softmax(torch.matmul(Q, K.T) * temp_mask, dim = -1), V)\n",
    "full_attention.shape"
   ]
  },
  {
   "cell_type": "code",
   "execution_count": 4,
   "id": "7299b437",
   "metadata": {},
   "outputs": [
    {
     "data": {
      "text/plain": [
       "tensor([ 60,  76, 124,  73,  73,  85, 109,  13,  35,  76,  73,  13,  68,  24,\n",
       "        115, 122, 124,   7,   7,   7], device='cuda:0')"
      ]
     },
     "execution_count": 4,
     "metadata": {},
     "output_type": "execute_result"
    }
   ],
   "source": [
    "full_attention.argmax(-1)"
   ]
  },
  {
   "cell_type": "code",
   "execution_count": 5,
   "id": "641da13f",
   "metadata": {},
   "outputs": [],
   "source": [
    "chunk_size = 5\n",
    "Q_blocks = torch.chunk(Q, chunk_size)\n",
    "K_blocks = torch.chunk(K, chunk_size)\n",
    "V_blocks = torch.chunk(V, chunk_size)"
   ]
  },
  {
   "cell_type": "code",
   "execution_count": 9,
   "id": "4292c2f6",
   "metadata": {},
   "outputs": [],
   "source": [
    "attn_bias_blocks = torch.chunk(temp_mask, chunk_size)\n",
    "seq_chunk = Q.shape[0] // chunk_size"
   ]
  },
  {
   "cell_type": "code",
   "execution_count": 10,
   "id": "a8541004",
   "metadata": {},
   "outputs": [],
   "source": [
    "block_attentions = []\n",
    "block_maxes = []\n",
    "\n",
    "Q_block = Q_blocks[0]\n",
    "attn_bias_block = attn_bias_blocks[0]\n",
    "\n",
    "for no, (K_block, V_block) in enumerate(zip(K_blocks, V_blocks)):\n",
    "    # Compute attention scores\n",
    "    \n",
    "    attn_bias_b = attn_bias_block[:, no * seq_chunk: (no + 1) * seq_chunk]\n",
    "    scores = torch.matmul(Q_block, K_block.T) * attn_bias_b\n",
    "\n",
    "    # Compute block-wise max\n",
    "    block_max = scores.max(dim=-1, keepdim=True)[0]\n",
    "    block_maxes.append(block_max)\n",
    "\n",
    "    # Compute block-wise attention\n",
    "    block_attention = torch.matmul(F.softmax(scores - block_max, dim=-1), V_block)\n",
    "    block_attentions.append(block_attention)\n",
    "\n",
    "# Compute global max\n",
    "global_max = torch.max(torch.cat(block_maxes, dim=-1), dim=-1, keepdim=True)[0]\n",
    "\n",
    "# Scale and combine block attentions\n",
    "scaled_attentions = [\n",
    "    torch.exp(block_max - global_max) * block_attention\n",
    "    for block_max, block_attention in zip(block_maxes, block_attentions)\n",
    "]\n",
    "\n",
    "output = sum(scaled_attentions)"
   ]
  },
  {
   "cell_type": "code",
   "execution_count": 13,
   "id": "07d1df34",
   "metadata": {},
   "outputs": [
    {
     "data": {
      "text/plain": [
       "tensor(0.9648, device='cuda:0')"
      ]
     },
     "execution_count": 13,
     "metadata": {},
     "output_type": "execute_result"
    }
   ],
   "source": [
    "(torch.sign(full_attention[:output.shape[0]]) == torch.sign(output)).float().mean()"
   ]
  },
  {
   "cell_type": "code",
   "execution_count": 14,
   "id": "e4b95509",
   "metadata": {},
   "outputs": [
    {
     "data": {
      "text/plain": [
       "tensor(-0.0005, device='cuda:0', dtype=torch.bfloat16)"
      ]
     },
     "execution_count": 14,
     "metadata": {},
     "output_type": "execute_result"
    }
   ],
   "source": [
    "(full_attention[:block_max.shape[0]] - output).mean()"
   ]
  },
  {
   "cell_type": "code",
   "execution_count": 15,
   "id": "9f12fdd5",
   "metadata": {},
   "outputs": [
    {
     "name": "stdout",
     "output_type": "stream",
     "text": [
      "tensor([ 60,  76, 124,  73], device='cuda:0') tensor([ 60,  76, 124,  73], device='cuda:0')\n"
     ]
    }
   ],
   "source": [
    "print(full_attention[:output.shape[0]].argmax(-1), output.argmax(-1))"
   ]
  },
  {
   "cell_type": "code",
   "execution_count": 16,
   "id": "157f035f",
   "metadata": {},
   "outputs": [
    {
     "data": {
      "text/plain": [
       "tensor([ 60,  76, 124,  73], device='cuda:0')"
      ]
     },
     "execution_count": 16,
     "metadata": {},
     "output_type": "execute_result"
    }
   ],
   "source": [
    "output.argmax(-1)"
   ]
  },
  {
   "cell_type": "code",
   "execution_count": 17,
   "id": "c43bd075",
   "metadata": {},
   "outputs": [
    {
     "data": {
      "text/plain": [
       "tensor([True, True, True, True], device='cuda:0')"
      ]
     },
     "execution_count": 17,
     "metadata": {},
     "output_type": "execute_result"
    }
   ],
   "source": [
    "full_attention[:output.shape[0]].argmax(-1) == output.argmax(-1)"
   ]
  }
 ],
 "metadata": {
  "kernelspec": {
   "display_name": "python3.10",
   "language": "python",
   "name": "python3.10"
  },
  "language_info": {
   "codemirror_mode": {
    "name": "ipython",
    "version": 3
   },
   "file_extension": ".py",
   "mimetype": "text/x-python",
   "name": "python",
   "nbconvert_exporter": "python",
   "pygments_lexer": "ipython3",
   "version": "3.10.14"
  }
 },
 "nbformat": 4,
 "nbformat_minor": 5
}
