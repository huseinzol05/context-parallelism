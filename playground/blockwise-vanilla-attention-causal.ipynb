{
 "cells": [
  {
   "cell_type": "code",
   "execution_count": 1,
   "id": "ce1923b8",
   "metadata": {},
   "outputs": [],
   "source": [
    "import torch\n",
    "import torch.nn.functional as F"
   ]
  },
  {
   "cell_type": "code",
   "execution_count": 2,
   "id": "35ffb759",
   "metadata": {},
   "outputs": [],
   "source": [
    "Q = torch.randn(100, 128).cuda().to(torch.bfloat16)\n",
    "K = torch.randn(100, 128).cuda().to(torch.bfloat16)\n",
    "V = torch.randn(100, 128).cuda().to(torch.bfloat16)\n",
    "L = Q.shape[0]\n",
    "S = K.shape[0]\n",
    "temp_mask = torch.ones(L, S, dtype=torch.bool).tril(diagonal=0).cuda()"
   ]
  },
  {
   "cell_type": "code",
   "execution_count": 3,
   "id": "fdf94447",
   "metadata": {},
   "outputs": [
    {
     "data": {
      "text/plain": [
       "torch.Size([100, 128])"
      ]
     },
     "execution_count": 3,
     "metadata": {},
     "output_type": "execute_result"
    }
   ],
   "source": [
    "full_attention = torch.matmul(F.softmax(torch.matmul(Q, K.T) * temp_mask, dim = -1), V)\n",
    "full_attention.shape"
   ]
  },
  {
   "cell_type": "code",
   "execution_count": 4,
   "id": "7299b437",
   "metadata": {},
   "outputs": [
    {
     "data": {
      "text/plain": [
       "tensor([ 89,  49,  89,  49,  97,  49,  12,  28,  49,  97,  74,  65,  57,  74,\n",
       "         65,  74,  63,  74,  22,  74,  74,  70, 101,  63,  74,  74,  28,  30,\n",
       "         20,  32,  22, 108,  67,  49,  97,  61,  39,  68,  22, 105, 105,  97,\n",
       "        105,  89,  88,  97,  63, 101,  94, 105,  29,  39,   7,  63, 120, 101,\n",
       "         97,  65,  29,  70,   8,  74,  19, 111,  20,  60,  33,  52, 101, 113,\n",
       "         49, 126,  21,  63,  54,  29,  94,  83,  83,  75,  58,  89,  89, 110,\n",
       "         58,  68,  40,  14,  61,  49,  12,  89,  21,  89, 126, 107,   5,  97,\n",
       "         60,  93], device='cuda:0')"
      ]
     },
     "execution_count": 4,
     "metadata": {},
     "output_type": "execute_result"
    }
   ],
   "source": [
    "full_attention.argmax(-1)"
   ]
  },
  {
   "cell_type": "code",
   "execution_count": 5,
   "id": "641da13f",
   "metadata": {},
   "outputs": [],
   "source": [
    "chunk_size = 5\n",
    "Q_blocks = torch.chunk(Q, chunk_size)\n",
    "K_blocks = torch.chunk(K, chunk_size)\n",
    "V_blocks = torch.chunk(V, chunk_size)"
   ]
  },
  {
   "cell_type": "code",
   "execution_count": 6,
   "id": "4292c2f6",
   "metadata": {},
   "outputs": [],
   "source": [
    "attn_bias_blocks = torch.chunk(temp_mask, chunk_size)\n",
    "seq_chunk = Q.shape[0] // chunk_size"
   ]
  },
  {
   "cell_type": "code",
   "execution_count": 7,
   "id": "a8541004",
   "metadata": {},
   "outputs": [],
   "source": [
    "block_attentions = []\n",
    "block_maxes = []\n",
    "\n",
    "Q_block = Q_blocks[0]\n",
    "attn_bias_block = attn_bias_blocks[0]\n",
    "\n",
    "for no, (K_block, V_block) in enumerate(zip(K_blocks, V_blocks)):\n",
    "    # Compute attention scores\n",
    "    \n",
    "    attn_bias_b = attn_bias_block[:, no * seq_chunk: (no + 1) * seq_chunk]\n",
    "    scores = torch.matmul(Q_block, K_block.T) * attn_bias_b\n",
    "\n",
    "    # Compute block-wise max\n",
    "    block_max = scores.max(dim=-1, keepdim=True)[0]\n",
    "    block_maxes.append(block_max)\n",
    "\n",
    "    # Compute block-wise attention\n",
    "    block_attention = torch.matmul(F.softmax(scores - block_max, dim=-1), V_block)\n",
    "    block_attentions.append(block_attention)\n",
    "\n",
    "# Compute global max\n",
    "global_max = torch.max(torch.cat(block_maxes, dim=-1), dim=-1, keepdim=True)[0]\n",
    "\n",
    "# Scale and combine block attentions\n",
    "scaled_attentions = [\n",
    "    torch.exp(block_max - global_max) * block_attention\n",
    "    for block_max, block_attention in zip(block_maxes, block_attentions)\n",
    "]\n",
    "\n",
    "output = sum(scaled_attentions)"
   ]
  },
  {
   "cell_type": "code",
   "execution_count": 8,
   "id": "07d1df34",
   "metadata": {},
   "outputs": [
    {
     "data": {
      "text/plain": [
       "tensor(0.9906, device='cuda:0')"
      ]
     },
     "execution_count": 8,
     "metadata": {},
     "output_type": "execute_result"
    }
   ],
   "source": [
    "(torch.sign(full_attention[:output.shape[0]]) == torch.sign(output)).float().mean()"
   ]
  },
  {
   "cell_type": "code",
   "execution_count": 9,
   "id": "e4b95509",
   "metadata": {},
   "outputs": [
    {
     "data": {
      "text/plain": [
       "tensor(0.0063, device='cuda:0', dtype=torch.bfloat16)"
      ]
     },
     "execution_count": 9,
     "metadata": {},
     "output_type": "execute_result"
    }
   ],
   "source": [
    "(full_attention[:block_max.shape[0]] - output).mean()"
   ]
  },
  {
   "cell_type": "code",
   "execution_count": 10,
   "id": "9f12fdd5",
   "metadata": {},
   "outputs": [
    {
     "name": "stdout",
     "output_type": "stream",
     "text": [
      "tensor([89, 49, 89, 49, 97, 49, 12, 28, 49, 97, 74, 65, 57, 74, 65, 74, 63, 74,\n",
      "        22, 74], device='cuda:0') tensor([34, 49, 89, 49, 97, 49, 12, 28, 49, 97, 74, 65, 57, 74, 65, 74, 63, 74,\n",
      "        22, 74], device='cuda:0')\n"
     ]
    }
   ],
   "source": [
    "print(full_attention[:output.shape[0]].argmax(-1), output.argmax(-1))"
   ]
  },
  {
   "cell_type": "code",
   "execution_count": 11,
   "id": "157f035f",
   "metadata": {},
   "outputs": [
    {
     "data": {
      "text/plain": [
       "tensor([34, 49, 89, 49, 97, 49, 12, 28, 49, 97, 74, 65, 57, 74, 65, 74, 63, 74,\n",
       "        22, 74], device='cuda:0')"
      ]
     },
     "execution_count": 11,
     "metadata": {},
     "output_type": "execute_result"
    }
   ],
   "source": [
    "output.argmax(-1)"
   ]
  },
  {
   "cell_type": "code",
   "execution_count": 12,
   "id": "c43bd075",
   "metadata": {},
   "outputs": [
    {
     "data": {
      "text/plain": [
       "tensor([False,  True,  True,  True,  True,  True,  True,  True,  True,  True,\n",
       "         True,  True,  True,  True,  True,  True,  True,  True,  True,  True],\n",
       "       device='cuda:0')"
      ]
     },
     "execution_count": 12,
     "metadata": {},
     "output_type": "execute_result"
    }
   ],
   "source": [
    "full_attention[:output.shape[0]].argmax(-1) == output.argmax(-1)"
   ]
  },
  {
   "cell_type": "code",
   "execution_count": null,
   "id": "b8713140",
   "metadata": {},
   "outputs": [],
   "source": []
  }
 ],
 "metadata": {
  "kernelspec": {
   "display_name": "python3.10",
   "language": "python",
   "name": "python3.10"
  },
  "language_info": {
   "codemirror_mode": {
    "name": "ipython",
    "version": 3
   },
   "file_extension": ".py",
   "mimetype": "text/x-python",
   "name": "python",
   "nbconvert_exporter": "python",
   "pygments_lexer": "ipython3",
   "version": "3.10.14"
  }
 },
 "nbformat": 4,
 "nbformat_minor": 5
}
