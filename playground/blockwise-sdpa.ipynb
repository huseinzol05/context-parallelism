{
 "cells": [
  {
   "cell_type": "code",
   "execution_count": 1,
   "id": "ce1923b8",
   "metadata": {},
   "outputs": [],
   "source": [
    "import torch\n",
    "import torch.nn.functional as F"
   ]
  },
  {
   "cell_type": "code",
   "execution_count": 2,
   "id": "35ffb759",
   "metadata": {},
   "outputs": [],
   "source": [
    "Q = torch.randn(100, 128).cuda().to(torch.bfloat16)\n",
    "K = torch.randn(100, 128).cuda().to(torch.bfloat16)\n",
    "V = torch.randn(100, 128).cuda().to(torch.bfloat16)"
   ]
  },
  {
   "cell_type": "code",
   "execution_count": null,
   "id": "66ef8e85",
   "metadata": {},
   "outputs": [],
   "source": []
  },
  {
   "cell_type": "code",
   "execution_count": 3,
   "id": "fdf94447",
   "metadata": {},
   "outputs": [
    {
     "data": {
      "text/plain": [
       "torch.Size([100, 128])"
      ]
     },
     "execution_count": 3,
     "metadata": {},
     "output_type": "execute_result"
    }
   ],
   "source": [
    "full_attention = torch.matmul(F.softmax(torch.matmul(Q, K.T), dim = -1), V)\n",
    "full_attention.shape"
   ]
  },
  {
   "cell_type": "code",
   "execution_count": 4,
   "id": "641da13f",
   "metadata": {},
   "outputs": [],
   "source": [
    "chunk_size = 2\n",
    "Q_blocks = torch.chunk(Q, chunk_size)\n",
    "K_blocks = torch.chunk(K, chunk_size)\n",
    "V_blocks = torch.chunk(V, chunk_size)"
   ]
  },
  {
   "cell_type": "code",
   "execution_count": 5,
   "id": "12e4aa18",
   "metadata": {},
   "outputs": [],
   "source": [
    "Q_block = Q_blocks[0]"
   ]
  },
  {
   "cell_type": "code",
   "execution_count": 6,
   "id": "a8541004",
   "metadata": {},
   "outputs": [],
   "source": [
    "block_attentions = []\n",
    "block_maxes = []\n",
    "\n",
    "for K_block, V_block in zip(K_blocks, V_blocks):\n",
    "    # Compute attention scores\n",
    "    scores = torch.matmul(Q_block, K_block.T)\n",
    "\n",
    "    # Compute block-wise max\n",
    "    block_max = scores.max(dim=-1, keepdim=True)[0]\n",
    "    block_maxes.append(block_max)\n",
    "\n",
    "    # Compute block-wise attention\n",
    "    block_attention = torch.matmul(F.softmax(scores - block_max, dim=-1), V_block)\n",
    "    block_attentions.append(block_attention)\n",
    "\n",
    "# Compute global max\n",
    "global_max = torch.max(torch.cat(block_maxes, dim=-1), dim=-1, keepdim=True)[0]\n",
    "\n",
    "# Scale and combine block attentions\n",
    "scaled_attentions = [\n",
    "    torch.exp(block_max - global_max) * block_attention\n",
    "    for block_max, block_attention in zip(block_maxes, block_attentions)\n",
    "]\n",
    "\n",
    "output = sum(scaled_attentions)"
   ]
  },
  {
   "cell_type": "code",
   "execution_count": 13,
   "id": "1da02a0a",
   "metadata": {},
   "outputs": [
    {
     "data": {
      "text/plain": [
       "torch.Size([50, 1])"
      ]
     },
     "execution_count": 13,
     "metadata": {},
     "output_type": "execute_result"
    }
   ],
   "source": [
    "block_max.shape"
   ]
  },
  {
   "cell_type": "code",
   "execution_count": 7,
   "id": "6d505dba",
   "metadata": {},
   "outputs": [
    {
     "data": {
      "text/plain": [
       "tensor([[ 0.9531,  0.6719, -1.1797,  ...,  0.8594, -0.8008,  0.1621],\n",
       "        [ 1.3672, -1.2109, -0.4023,  ...,  2.2188, -1.2812, -1.1328],\n",
       "        [ 0.8438,  0.2695,  0.0776,  ...,  0.2441,  0.5938,  0.2148],\n",
       "        ...,\n",
       "        [-1.8750,  0.6211, -1.1719,  ..., -1.1641, -1.5000,  0.1094],\n",
       "        [ 0.5312,  0.5664,  2.1250,  ..., -0.6875,  0.5312, -1.2578],\n",
       "        [ 0.5469, -1.2422,  2.0469,  ..., -0.8984,  0.5156, -0.8438]],\n",
       "       device='cuda:0', dtype=torch.bfloat16)"
      ]
     },
     "execution_count": 7,
     "metadata": {},
     "output_type": "execute_result"
    }
   ],
   "source": [
    "output"
   ]
  },
  {
   "cell_type": "code",
   "execution_count": 8,
   "id": "e4884dea",
   "metadata": {},
   "outputs": [
    {
     "data": {
      "text/plain": [
       "tensor([[ 0.9414,  0.6641, -1.1719,  ...,  0.8477, -0.7930,  0.1602],\n",
       "        [ 1.3672, -1.2109, -0.4023,  ...,  2.2188, -1.2812, -1.1328],\n",
       "        [ 0.8438,  0.2695,  0.0781,  ...,  0.2441,  0.5938,  0.2148],\n",
       "        ...,\n",
       "        [-1.1641,  0.3848, -0.7266,  ..., -0.7227, -0.9297,  0.0659],\n",
       "        [ 0.5312,  0.5664,  2.1250,  ..., -0.6875,  0.5312, -1.2578],\n",
       "        [ 0.4629, -1.0547,  1.7344,  ..., -0.7617,  0.4375, -0.7227]],\n",
       "       device='cuda:0', dtype=torch.bfloat16)"
      ]
     },
     "execution_count": 8,
     "metadata": {},
     "output_type": "execute_result"
    }
   ],
   "source": [
    "full_attention[:50]"
   ]
  },
  {
   "cell_type": "code",
   "execution_count": 14,
   "id": "07d1df34",
   "metadata": {},
   "outputs": [
    {
     "data": {
      "text/plain": [
       "tensor(0.9958, device='cuda:0')"
      ]
     },
     "execution_count": 14,
     "metadata": {},
     "output_type": "execute_result"
    }
   ],
   "source": [
    "(torch.sign(full_attention[:output.shape[0]]) == torch.sign(output)).float().mean()"
   ]
  },
  {
   "cell_type": "code",
   "execution_count": 10,
   "id": "e4b95509",
   "metadata": {},
   "outputs": [
    {
     "data": {
      "text/plain": [
       "tensor(0.0015, device='cuda:0', dtype=torch.bfloat16)"
      ]
     },
     "execution_count": 10,
     "metadata": {},
     "output_type": "execute_result"
    }
   ],
   "source": [
    "(full_attention[:50] - output).mean()"
   ]
  },
  {
   "cell_type": "code",
   "execution_count": 17,
   "id": "9f12fdd5",
   "metadata": {},
   "outputs": [
    {
     "name": "stdout",
     "output_type": "stream",
     "text": [
      "tensor([122,  84,  27,  20,  98,  60,  36,  65,  39,  48,  31,  91,  48,  69,\n",
      "         80,  98,  59, 121,   0,  24,  42,  67,  76,  58,  36,  34,  79,   1,\n",
      "         57,  99,   9,  47,  77, 110,   9,   9, 119,   9,  34,  27,   6,  37,\n",
      "        104, 121, 103, 123,   0,  56,  67, 104], device='cuda:0') tensor([122,  84,  27,  20,  98,  60,  36,  65,  39,  48,  31,  91,  48,  69,\n",
      "         80,  98,  59, 121,   0,  24,  42,  39,  76,  58,  36,  34,  79,   1,\n",
      "         57,  40,   9,  47,  77, 110,   9,   9, 119,   9,  34,  27,   6,  37,\n",
      "        104, 121, 103, 123,   0,  56,  67, 104], device='cuda:0')\n"
     ]
    }
   ],
   "source": [
    "print(full_attention[:output.shape[0]].argmax(-1), output.argmax(-1))"
   ]
  },
  {
   "cell_type": "code",
   "execution_count": 16,
   "id": "157f035f",
   "metadata": {},
   "outputs": [
    {
     "data": {
      "text/plain": [
       "tensor([122,  84,  27,  20,  98,  60,  36,  65,  39,  48,  31,  91,  48,  69,\n",
       "         80,  98,  59, 121,   0,  24,  42,  39,  76,  58,  36,  34,  79,   1,\n",
       "         57,  40,   9,  47,  77, 110,   9,   9, 119,   9,  34,  27,   6,  37,\n",
       "        104, 121, 103, 123,   0,  56,  67, 104], device='cuda:0')"
      ]
     },
     "execution_count": 16,
     "metadata": {},
     "output_type": "execute_result"
    }
   ],
   "source": [
    "output.argmax(-1)"
   ]
  },
  {
   "cell_type": "code",
   "execution_count": null,
   "id": "c43bd075",
   "metadata": {},
   "outputs": [],
   "source": []
  }
 ],
 "metadata": {
  "kernelspec": {
   "display_name": "python3.10",
   "language": "python",
   "name": "python3.10"
  },
  "language_info": {
   "codemirror_mode": {
    "name": "ipython",
    "version": 3
   },
   "file_extension": ".py",
   "mimetype": "text/x-python",
   "name": "python",
   "nbconvert_exporter": "python",
   "pygments_lexer": "ipython3",
   "version": "3.10.14"
  }
 },
 "nbformat": 4,
 "nbformat_minor": 5
}
